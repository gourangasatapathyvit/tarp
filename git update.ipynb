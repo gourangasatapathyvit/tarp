{
 "cells": [
  {
   "cell_type": "markdown",
   "metadata": {},
   "source": [
    "#### Library installation used web link"
   ]
  },
  {
   "cell_type": "code",
   "execution_count": 1,
   "metadata": {},
   "outputs": [],
   "source": [
    "# pip install numpy pandas matplotlib pyrebase4 python-firebase\n",
    "\n",
    "\n"
   ]
  },
  {
   "cell_type": "markdown",
   "metadata": {},
   "source": [
    "## Google cloud console library "
   ]
  },
  {
   "cell_type": "code",
   "execution_count": 1,
   "metadata": {},
   "outputs": [],
   "source": [
    "import os\n",
    "import schedule\n",
    "import time\n",
    "from googleapiclient.discovery import build\n",
    "from google.oauth2 import service_account"
   ]
  },
  {
   "cell_type": "markdown",
   "metadata": {},
   "source": [
    "## Firebase library"
   ]
  },
  {
   "cell_type": "code",
   "execution_count": 9,
   "metadata": {},
   "outputs": [],
   "source": [
    "import pyrebase\n",
    "\n",
    "config = {\n",
    "    'apiKey': \"****\",\n",
    "    'authDomain': \"****\",\n",
    "    'databaseURL': \"****\",\n",
    "    'projectId': \"****\",\n",
    "    'storageBucket': \"****\",\n",
    "    'messagingSenderId': \"****\",\n",
    "    'appId': \"****\",\n",
    "    'measurementId': \"****\"\n",
    "}\n",
    "\n",
    "from firebase import firebase\n",
    "firebase = firebase.FirebaseApplication('****', None)\n",
    "firebase = pyrebase.initialize_app(config)\n",
    "db = firebase.database()\n",
    "# users = db.child(\"elated-capsule-249919:Heart_rate/-MaLuG5cohlzZx_TLFl9\").get()"
   ]
  },
  {
   "cell_type": "markdown",
   "metadata": {},
   "source": [
    "### <u>Operation</u>"
   ]
  },
  {
   "cell_type": "markdown",
   "metadata": {},
   "source": [
    "### 1. extract the data from firebase\n",
    "### 2. push the data into spreadsheet using google cloud console\n",
    "### 3. schedule the script at every ```3 seconds```"
   ]
  },
  {
   "cell_type": "code",
   "execution_count": 2,
   "metadata": {},
   "outputs": [],
   "source": [
    "def a():\n",
    "    condition_val = 0\n",
    "    nu = 1\n",
    "    num = 1\n",
    "    counter_humid = 1\n",
    "    counter_temp = 1\n",
    "    bodytemp_count = 1\n",
    "    c = 0\n",
    "    \n",
    "    doubly_arr = []\n",
    "    time_period = []\n",
    "    pulse = []\n",
    "    humidity = []\n",
    "    temperature = []\n",
    "    body_temp = []\n",
    "    \n",
    "    users = db.child(\"test/push\").get()\n",
    "    \n",
    "    if condition_val==0:\n",
    "        time_period.insert(0,\"Time\")\n",
    "        pulse.insert(0,\"Pulse\")\n",
    "        humidity.insert(0,\"Humidity\")\n",
    "        temperature.insert(0,\"ENV. Temperature\")\n",
    "        body_temp.insert(0,\"Body Temperature\")\n",
    "        condition_val=1\n",
    "    \n",
    "        \n",
    "    for user in users.each():\n",
    "        time_period.insert(num,list(user.val().values())[4])\n",
    "        num+=1\n",
    "    print(time_period)\n",
    "\n",
    "    for user in users.each():\n",
    "        pulse.insert(nu,list(user.val().values())[2])\n",
    "        nu+=1\n",
    "    print(pulse)\n",
    "    \n",
    "    \n",
    "    for user in users.each():\n",
    "        humidity.insert(counter_humid,list(user.val().values())[1])\n",
    "        counter_humid+=1\n",
    "    print(humidity)\n",
    "\n",
    "    \n",
    "    for user in users.each():\n",
    "        temperature.insert(counter_temp,list(user.val().values())[3])\n",
    "        counter_temp+=1\n",
    "    print(temperature)\n",
    "    \n",
    "    for user in users.each():\n",
    "        body_temp.insert(bodytemp_count,list(user.val().values())[0])\n",
    "#         body_temp.insert(bodytemp_count,0)\n",
    "        bodytemp_count+=1\n",
    "    print(body_temp)\n",
    "    \n",
    "    for i in range(len(pulse)):\n",
    "        doubly_arr.append([time_period[c],pulse[c],humidity[c],temperature[c],body_temp[c]])\n",
    "#         doubly_arr.append([time_period[c],pulse[c]])\n",
    "        c+=1\n",
    "    \n",
    "    send_alert = [['heart beat Alert'],['Body temperature Alert']]\n",
    "    alert_bool_1 = int(pulse[-1])\n",
    "    alert_bool_2 = int(body_temp[-1])\n",
    "    alert = \"\"\n",
    "    alert2 = \"\"\n",
    "    if alert_bool_1<60:\n",
    "        alert = 'Low Heartbeat ⚠️'\n",
    "    elif alert_bool_1>120:\n",
    "         alert = 'High Heartbeat ⚠️'\n",
    "    else:\n",
    "        alert = 'Normal Heartbeat 💚'\n",
    "    send_alert[0].insert(1,alert)\n",
    "    \n",
    "    if alert_bool_2<=95:\n",
    "        alert = 'Low temp. ⚠️'\n",
    "    elif alert_bool_2>=106:\n",
    "         alert = 'High temp. ⚠️'\n",
    "    else:\n",
    "        alert = 'Normal 💚'\n",
    "    send_alert[1].insert(1,alert)\n",
    "    \n",
    "    \n",
    "    SCOPES = ['****']\n",
    "    SERVICE_ACCOUNT_FILE = 'keys.json'\n",
    "\n",
    "    creds = None\n",
    "    creds = service_account.Credentials.from_service_account_file(\n",
    "            SERVICE_ACCOUNT_FILE, scopes=SCOPES)\n",
    "\n",
    "    # If modifying these scopes, delete the file token.json.\n",
    "    # The ID spreadsheet.\n",
    "    SAMPLE_SPREADSHEET_ID = '****'\n",
    "    service = build('sheets', 'v4', credentials=creds)\n",
    "\n",
    "    # Call the Sheets API\n",
    "    sheet = service.spreadsheets()\n",
    "\n",
    "    # result = sheet.values().get(spreadsheetId=SAMPLE_SPREADSHEET_ID,\n",
    "    #                                 range=\"test!A1:B5000000\").execute()\n",
    "\n",
    "    aoa = doubly_arr\n",
    "\n",
    "    update = sheet.values().update(spreadsheetId=SAMPLE_SPREADSHEET_ID,\n",
    "                                   range=\"testing!A1\", valueInputOption=\"USER_ENTERED\", body={\"values\":aoa}).execute()\n",
    "    \n",
    "    alert_val = send_alert\n",
    "    print(send_alert)\n",
    "\n",
    "    update = sheet.values().update(spreadsheetId=SAMPLE_SPREADSHEET_ID,\n",
    "                                   range=\"heart_agg!A2\", valueInputOption=\"USER_ENTERED\", body={\"values\":alert_val}).execute()"
   ]
  },
  {
   "cell_type": "code",
   "execution_count": 22,
   "metadata": {},
   "outputs": [
    {
     "name": "stdout",
     "output_type": "stream",
     "text": [
      "['Time', 15, 33, 50, 68, 85, 102, 119, 140, 157, 174, 191, 210]\n",
      "['Pulse', 0, 68, 76, 68, 76, 40, 84, 0, 88, 36, 64, 4]\n",
      "['Humidity', 93, 92, 92, 92, 92, 92, 91, 91, 91, 91, 91, 91]\n",
      "['ENV. Temperature', 28, 28, 28, 28, 28, 28, 28, 28, 28, 28, 28, 28]\n",
      "['Body Temperature', 96.16016, 101.43359, 102.3125, 101.43359, 101.43359, 101.43359, 97.03906, 97.03906, 101.43359, 101.43359, 97.03906, 101.43359]\n",
      "[['heart beat Alert', 'Low Heartbeat ⚠️'], ['Body temperature Alert', 'Normal 💚']]\n"
     ]
    }
   ],
   "source": [
    "try:\n",
    "    a()\n",
    "except:\n",
    "    print('connection failed')"
   ]
  },
  {
   "cell_type": "markdown",
   "metadata": {},
   "source": [
    "# ```schedule``` the task"
   ]
  },
  {
   "cell_type": "code",
   "execution_count": 24,
   "metadata": {},
   "outputs": [],
   "source": [
    "schedule.every(2).seconds.do(a)\n",
    "\n",
    "while True:\n",
    "    schedule.run_pending()\n",
    "#     time.sleep(1)\n",
    "    print(\"*************\")"
   ]
  },
  {
   "cell_type": "code",
   "execution_count": null,
   "metadata": {},
   "outputs": [],
   "source": []
  }
 ],
 "metadata": {
  "kernelspec": {
   "display_name": "Python 3",
   "language": "python",
   "name": "python3"
  },
  "language_info": {
   "codemirror_mode": {
    "name": "ipython",
    "version": 3
   },
   "file_extension": ".py",
   "mimetype": "text/x-python",
   "name": "python",
   "nbconvert_exporter": "python",
   "pygments_lexer": "ipython3",
   "version": "3.7.6"
  }
 },
 "nbformat": 4,
 "nbformat_minor": 4
}
